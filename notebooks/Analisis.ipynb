{
 "cells": [
  {
   "cell_type": "code",
   "execution_count": null,
   "metadata": {},
   "outputs": [],
   "source": [
    "import pandas as pd\n",
    "import matplotlib.pyplot as plt"
   ]
  },
  {
   "cell_type": "code",
   "execution_count": null,
   "metadata": {},
   "outputs": [],
   "source": [
    "filename_recorridos = '../data_set/recorridos-realizados-2018.csv'\n",
    "filename_usuarios = '../data_set/usuarios-ecobici-2018.csv'\n",
    "data_recorridos = pd.read_csv(filename_recorridos)\n",
    "data_usuarios = pd.read_csv(filename_usuarios)"
   ]
  },
  {
   "cell_type": "code",
   "execution_count": null,
   "metadata": {},
   "outputs": [],
   "source": [
    "data_recorridos.head()"
   ]
  },
  {
   "cell_type": "code",
   "execution_count": null,
   "metadata": {},
   "outputs": [],
   "source": [
    "data_usuarios.head()"
   ]
  },
  {
   "cell_type": "markdown",
   "metadata": {},
   "source": [
    "### Id de estacion origen con mas de un nombre"
   ]
  },
  {
   "cell_type": "code",
   "execution_count": null,
   "metadata": {},
   "outputs": [],
   "source": [
    "data_recorridos[['bici_estacion_origen', 'bici_nombre_estacion_origen']].pivot_table(index='bici_estacion_origen', columns='bici_nombre_estacion_origen', aggfunc=len).dropna(thresh=2)"
   ]
  },
  {
   "cell_type": "markdown",
   "metadata": {},
   "source": [
    "### Nombre de estacion origen con mas de un Id"
   ]
  },
  {
   "cell_type": "code",
   "execution_count": null,
   "metadata": {},
   "outputs": [],
   "source": [
    "data_recorridos[['bici_estacion_origen', 'bici_nombre_estacion_origen']].pivot_table(index='bici_nombre_estacion_origen', columns='bici_estacion_origen', aggfunc=len).dropna(thresh=2)"
   ]
  },
  {
   "cell_type": "markdown",
   "metadata": {},
   "source": [
    "### Id de estacion destino con mas de un nombre"
   ]
  },
  {
   "cell_type": "code",
   "execution_count": null,
   "metadata": {},
   "outputs": [],
   "source": [
    "data_recorridos[['bici_estacion_destino', 'bici_nombre_estacion_destino']].pivot_table(index='bici_estacion_destino', columns='bici_nombre_estacion_destino', aggfunc=len).dropna(thresh=2)"
   ]
  },
  {
   "cell_type": "markdown",
   "metadata": {},
   "source": [
    "### Nombre de estacion destino con mas de un Id"
   ]
  },
  {
   "cell_type": "code",
   "execution_count": null,
   "metadata": {},
   "outputs": [],
   "source": [
    "data_recorridos[['bici_estacion_destino', 'bici_nombre_estacion_destino']].pivot_table(index='bici_nombre_estacion_destino', columns='bici_estacion_destino', aggfunc=len).dropna(thresh=2)"
   ]
  }
 ],
 "metadata": {
  "kernelspec": {
   "display_name": "Python 3",
   "language": "python",
   "name": "python3"
  },
  "language_info": {
   "codemirror_mode": {
    "name": "ipython",
    "version": 3
   },
   "file_extension": ".py",
   "mimetype": "text/x-python",
   "name": "python",
   "nbconvert_exporter": "python",
   "pygments_lexer": "ipython3",
   "version": "3.7.0"
  }
 },
 "nbformat": 4,
 "nbformat_minor": 2
}
