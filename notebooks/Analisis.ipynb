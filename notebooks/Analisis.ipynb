{
 "cells": [
  {
   "cell_type": "code",
   "execution_count": null,
   "metadata": {},
   "outputs": [],
   "source": [
    "import pandas as pd\n",
    "import matplotlib.pyplot as plt"
   ]
  },
  {
   "cell_type": "code",
   "execution_count": null,
   "metadata": {},
   "outputs": [],
   "source": [
    "filename_recorridos = '../data_set/recorridos-realizados-2018.csv'\n",
    "filename_usuarios = '../data_set/usuarios-ecobici-2018.csv'\n",
    "data_recorridos = pd.read_csv(filename_recorridos)\n",
    "data_usuarios = pd.read_csv(filename_usuarios)"
   ]
  },
  {
   "cell_type": "code",
   "execution_count": null,
   "metadata": {},
   "outputs": [],
   "source": [
    "data_recorridos.head()"
   ]
  },
  {
   "cell_type": "code",
   "execution_count": null,
   "metadata": {},
   "outputs": [],
   "source": [
    "data_usuarios.head()"
   ]
  },
  {
   "cell_type": "markdown",
   "metadata": {},
   "source": [
    "## Comparación entre id de estación y nombre de estación"
   ]
  },
  {
   "cell_type": "markdown",
   "metadata": {},
   "source": [
    "### Id de estacion origen con mas de un nombre"
   ]
  },
  {
   "cell_type": "code",
   "execution_count": null,
   "metadata": {},
   "outputs": [],
   "source": [
    "data_recorridos[['bici_estacion_origen', 'bici_nombre_estacion_origen']].pivot_table(index='bici_estacion_origen', columns='bici_nombre_estacion_origen', aggfunc=len).dropna(thresh=2)"
   ]
  },
  {
   "cell_type": "markdown",
   "metadata": {},
   "source": [
    "### Nombre de estacion origen con mas de un Id"
   ]
  },
  {
   "cell_type": "code",
   "execution_count": null,
   "metadata": {},
   "outputs": [],
   "source": [
    "data_recorridos[['bici_estacion_origen', 'bici_nombre_estacion_origen']].pivot_table(index='bici_nombre_estacion_origen', columns='bici_estacion_origen', aggfunc=len).dropna(thresh=2)"
   ]
  },
  {
   "cell_type": "markdown",
   "metadata": {},
   "source": [
    "### Id de estacion destino con mas de un nombre"
   ]
  },
  {
   "cell_type": "code",
   "execution_count": null,
   "metadata": {},
   "outputs": [],
   "source": [
    "data_recorridos[['bici_estacion_destino', 'bici_nombre_estacion_destino']].pivot_table(index='bici_estacion_destino', columns='bici_nombre_estacion_destino', aggfunc=len).dropna(thresh=2)"
   ]
  },
  {
   "cell_type": "markdown",
   "metadata": {},
   "source": [
    "### Nombre de estacion destino con mas de un Id"
   ]
  },
  {
   "cell_type": "code",
   "execution_count": null,
   "metadata": {},
   "outputs": [],
   "source": [
    "data_recorridos[['bici_estacion_destino', 'bici_nombre_estacion_destino']].pivot_table(index='bici_nombre_estacion_destino', columns='bici_estacion_destino', aggfunc=len).dropna(thresh=2)"
   ]
  },
  {
   "cell_type": "markdown",
   "metadata": {},
   "source": [
    "## Comparación entre id usuario y sexo"
   ]
  },
  {
   "cell_type": "code",
   "execution_count": null,
   "metadata": {},
   "outputs": [],
   "source": [
    "data_recorridos.groupby('bici_id_usuario')['bici_sexo'].nunique().max()"
   ]
  },
  {
   "cell_type": "markdown",
   "metadata": {},
   "source": [
    "## Comparación entre usuarios de dataset de recorridos y dataset de usuarios"
   ]
  },
  {
   "cell_type": "code",
   "execution_count": null,
   "metadata": {},
   "outputs": [],
   "source": [
    "usuarios1 = data_recorridos[['bici_id_usuario', 'bici_sexo', 'bici_edad']].drop_duplicates()\n",
    "usuarios1.columns = ['usuario_id', 'usuario_sexo', 'usuario_edad']\n",
    "\n",
    "usuarios2 = data_usuarios[['usuario_id', 'usuario_sexo', 'usuario_edad']].drop_duplicates()\n",
    "usuarios2.columns = ['usuario_id', 'usuario_sexo', 'usuario_edad']\n",
    "\n",
    "merged = pd.merge(usuarios1, usuarios2, how='inner', on=['usuario_id'])\n",
    "\n",
    "def check_all_equal(iterator):\n",
    "    return len(set(iterator)) <= 1\n",
    "\n",
    "print(\"Diferencias en sexo\")\n",
    "columns_to_compare = ['usuario_sexo_x', 'usuario_sexo_y']\n",
    "print(merged[merged[columns_to_compare].apply(lambda row: not check_all_equal(row), axis=1)].head())\n",
    "\n",
    "print(\"Diferencias en edad\")\n",
    "columns_to_compare = ['usuario_edad_x', 'usuario_edad_y']\n",
    "print(merged[merged[columns_to_compare].apply(lambda row: not check_all_equal(row), axis=1)].head())"
   ]
  }
 ],
 "metadata": {
  "kernelspec": {
   "display_name": "Python 3",
   "language": "python",
   "name": "python3"
  },
  "language_info": {
   "codemirror_mode": {
    "name": "ipython",
    "version": 3
   },
   "file_extension": ".py",
   "mimetype": "text/x-python",
   "name": "python",
   "nbconvert_exporter": "python",
   "pygments_lexer": "ipython3",
   "version": "3.7.0"
  }
 },
 "nbformat": 4,
 "nbformat_minor": 2
}
